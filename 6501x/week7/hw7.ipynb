{
 "cells": [
  {
   "cell_type": "code",
   "execution_count": 1,
   "metadata": {},
   "outputs": [],
   "source": [
    "# Import packages, change working directory\n",
    "from pulp import *\n",
    "import pandas as pd\n",
    "import os\n",
    "if sys.platform == 'linux':\n",
    "    os.chdir('/home/robert/Documents/edx/6501x/week7')\n",
    "else:\n",
    "    os.chdir('C:\\\\Users\\\\robert.gambrel\\\\Documents\\\\edx')"
   ]
  },
  {
   "cell_type": "markdown",
   "metadata": {},
   "source": [
    "## For the basic problem, load the data, specify the constraints, and run the optimization"
   ]
  },
  {
   "cell_type": "code",
   "execution_count": 2,
   "metadata": {},
   "outputs": [],
   "source": [
    "# Import the cleaned up data, and start prepping it\n",
    "food_data = pd.read_csv('food_prices.csv')\n",
    "\n",
    "foods = food_data['food'].tolist()"
   ]
  },
  {
   "cell_type": "code",
   "execution_count": 3,
   "metadata": {},
   "outputs": [
    {
     "data": {
      "text/plain": [
       "1"
      ]
     },
     "execution_count": 3,
     "metadata": {},
     "output_type": "execute_result"
    }
   ],
   "source": [
    "# Make everything dictionaries   \n",
    "price = dict(zip(food_data.food, food_data.price))\n",
    "calories = dict(zip(food_data.food, food_data.calories))\n",
    "cholesterol = dict(zip(food_data.food, food_data.cholesterol))\n",
    "fat = dict(zip(food_data.food, food_data.fat))\n",
    "sodium = dict(zip(food_data.food, food_data.sodium))\n",
    "carbohydrate = dict(zip(food_data.food, food_data.carbohydrate))\n",
    "fiber = dict(zip(food_data.food, food_data.fiber))\n",
    "protein = dict(zip(food_data.food, food_data.protein))\n",
    "vit_a = dict(zip(food_data.food, food_data.vit_a))\n",
    "vit_c = dict(zip(food_data.food, food_data.vit_c))\n",
    "calcium = dict(zip(food_data.food, food_data.calcium))\n",
    "iron = dict(zip(food_data.food, food_data.iron))\n",
    "\n",
    "# Create the 'prob' variable to contain the problem data, specify minimize expense\n",
    "prob = LpProblem(\"Army Food Problem\", LpMinimize)\n",
    "\n",
    "# Food choices - continuous w/ 0 minimum value\n",
    "food_inputs = LpVariable.dicts(\"Foods\",foods,0)\n",
    "\n",
    "# Add objective function - Minimize cost\n",
    "prob += lpSum([price[i]*food_inputs[i] for i in foods]), \"Total Cost of Food per Meal\"\n",
    "\n",
    "# Add Maxumum constraints\n",
    "prob += lpSum([calories[i] * food_inputs[i] for i in foods]) >= 1500, \"MinCalories\"\n",
    "prob += lpSum([cholesterol[i] * food_inputs[i] for i in foods]) >= 30.0, \"MinCholesterol\"\n",
    "prob += lpSum([fat[i] * food_inputs[i] for i in foods]) >= 20.0, \"MinFat\"\n",
    "prob += lpSum([sodium[i] * food_inputs[i] for i in foods]) >= 800.0, \"MinSodium\"\n",
    "prob += lpSum([carbohydrate[i] * food_inputs[i] for i in foods]) >= 130.0, \"MinCarbohydrate\"\n",
    "prob += lpSum([fiber[i] * food_inputs[i] for i in foods]) >= 125.0, \"MinFiber\"\n",
    "prob += lpSum([protein[i] * food_inputs[i] for i in foods]) >= 60.0, \"MinProtein\"\n",
    "prob += lpSum([vit_a[i] * food_inputs[i] for i in foods]) >= 1000.0, \"MinVitA\"\n",
    "prob += lpSum([vit_c[i] * food_inputs[i] for i in foods]) >= 400.0, \"MinVitC\"\n",
    "prob += lpSum([calcium[i] * food_inputs[i] for i in foods]) >= 700.0, \"MinCalcium\"\n",
    "prob += lpSum([iron[i] * food_inputs[i] for i in foods]) >= 10.0, \"MinIron\"\n",
    "\n",
    "# Minumum constraints\n",
    "prob += lpSum([calories[i] * food_inputs[i] for i in foods]) <= 2500, \"MaxCalories\"\n",
    "prob += lpSum([cholesterol[i] * food_inputs[i] for i in foods]) <= 240.0, \"MaxCholesterol\"\n",
    "prob += lpSum([fat[i] * food_inputs[i] for i in foods]) <= 70.0, \"MaxFat\"\n",
    "prob += lpSum([sodium[i] * food_inputs[i] for i in foods]) <= 2000.0, \"MaxSodium\"\n",
    "prob += lpSum([carbohydrate[i] * food_inputs[i] for i in foods]) <= 450.0, \"MaxCarbohydrate\"\n",
    "prob += lpSum([fiber[i] * food_inputs[i] for i in foods]) <= 250.0, \"MaxFiber\"\n",
    "prob += lpSum([protein[i] * food_inputs[i] for i in foods]) <= 100.0, \"MaxProtein\"\n",
    "prob += lpSum([vit_a[i] * food_inputs[i] for i in foods]) <= 10000.0, \"MaxVitA\"\n",
    "prob += lpSum([vit_c[i] * food_inputs[i] for i in foods]) <= 5000.0, \"MaxVitC\"\n",
    "prob += lpSum([calcium[i] * food_inputs[i] for i in foods]) <= 1500.0, \"MaxCalcium\"\n",
    "prob += lpSum([iron[i] * food_inputs[i] for i in foods]) <= 40.0, \"MaxIron\"\n",
    "\n",
    "prob.solve()"
   ]
  },
  {
   "cell_type": "code",
   "execution_count": 4,
   "metadata": {
    "scrolled": false
   },
   "outputs": [
    {
     "name": "stdout",
     "output_type": "stream",
     "text": [
      "Foods_Celery__Raw = 52.64371\n",
      "Foods_Frozen_Broccoli = 0.25960653\n",
      "Foods_Lettuce_Iceberg_Raw = 63.988506\n",
      "Foods_Oranges = 2.2929389\n",
      "Foods_Poached_Eggs = 0.14184397\n",
      "Foods_Popcorn_Air_Popped = 13.869322\n",
      "Total Cost of Ingredients per meal =  4.337116797399999\n"
     ]
    }
   ],
   "source": [
    "# Optimal values:\n",
    "# Each of the variables is printed with it's resolved optimum value\n",
    "for v in prob.variables():\n",
    "    if v.varValue > 0:\n",
    "        print(v.name, \"=\", v.varValue)\n",
    "    \n",
    "print(\"Total Cost of Ingredients per meal = \", value(prob.objective))"
   ]
  },
  {
   "cell_type": "markdown",
   "metadata": {},
   "source": [
    "The cheapest option is a basket of mostly cheap vegetables, with some protein sources. The total cost is $4.33."
   ]
  },
  {
   "cell_type": "markdown",
   "metadata": {},
   "source": [
    "## To add additional constraints, add a binary variable that is 1 if any of the input is used, and specify that if an input is used it must have at least 0.1 serving size"
   ]
  },
  {
   "cell_type": "code",
   "execution_count": 5,
   "metadata": {},
   "outputs": [],
   "source": [
    "# Create the 'prob' variable to contain the problem data\n",
    "prob = LpProblem(\"Army Food Problem\", LpMinimize)\n",
    "\n",
    "# Food choices\n",
    "food_inputs = LpVariable.dicts(\"Foods\",foods,0)\n",
    "food_binary_indicators = LpVariable.dicts(\"Foods_ind\", foods, 0, 1, 'Integer')\n",
    "\n",
    "# Add objective function - Minimize cost\n",
    "prob += lpSum([price[i]*food_inputs[i] for i in foods]), \"Total Cost of Food per Meal\"\n",
    "\n",
    "# Add Maxumum constraints\n",
    "prob += lpSum([calories[i] * food_inputs[i] for i in foods]) >= 1500, \"MinCalories\"\n",
    "prob += lpSum([cholesterol[i] * food_inputs[i] for i in foods]) >= 30.0, \"MinCholesterol\"\n",
    "prob += lpSum([fat[i] * food_inputs[i] for i in foods]) >= 20.0, \"MinFat\"\n",
    "prob += lpSum([sodium[i] * food_inputs[i] for i in foods]) >= 800.0, \"MinSodium\"\n",
    "prob += lpSum([carbohydrate[i] * food_inputs[i] for i in foods]) >= 130.0, \"MinCarbohydrate\"\n",
    "prob += lpSum([fiber[i] * food_inputs[i] for i in foods]) >= 125.0, \"MinFiber\"\n",
    "prob += lpSum([protein[i] * food_inputs[i] for i in foods]) >= 60.0, \"MinProtein\"\n",
    "prob += lpSum([vit_a[i] * food_inputs[i] for i in foods]) >= 1000.0, \"MinVitA\"\n",
    "prob += lpSum([vit_c[i] * food_inputs[i] for i in foods]) >= 400.0, \"MinVitC\"\n",
    "prob += lpSum([calcium[i] * food_inputs[i] for i in foods]) >= 700.0, \"MinCalcium\"\n",
    "prob += lpSum([iron[i] * food_inputs[i] for i in foods]) >= 10.0, \"MinIron\"\n",
    "\n",
    "# Minumum constraints\n",
    "prob += lpSum([calories[i] * food_inputs[i] for i in foods]) <= 2500, \"MaxCalories\"\n",
    "prob += lpSum([cholesterol[i] * food_inputs[i] for i in foods]) <= 240.0, \"MaxCholesterol\"\n",
    "prob += lpSum([fat[i] * food_inputs[i] for i in foods]) <= 70.0, \"MaxFat\"\n",
    "prob += lpSum([sodium[i] * food_inputs[i] for i in foods]) <= 2000.0, \"MaxSodium\"\n",
    "prob += lpSum([carbohydrate[i] * food_inputs[i] for i in foods]) <= 450.0, \"MaxCarbohydrate\"\n",
    "prob += lpSum([fiber[i] * food_inputs[i] for i in foods]) <= 250.0, \"MaxFiber\"\n",
    "prob += lpSum([protein[i] * food_inputs[i] for i in foods]) <= 100.0, \"MaxProtein\"\n",
    "prob += lpSum([vit_a[i] * food_inputs[i] for i in foods]) <= 10000.0, \"MaxVitA\"\n",
    "prob += lpSum([vit_c[i] * food_inputs[i] for i in foods]) <= 5000.0, \"MaxVitC\"\n",
    "prob += lpSum([calcium[i] * food_inputs[i] for i in foods]) <= 1500.0, \"MaxCalcium\"\n",
    "prob += lpSum([iron[i] * food_inputs[i] for i in foods]) <= 40.0, \"MaxIron\"\n"
   ]
  },
  {
   "cell_type": "markdown",
   "metadata": {},
   "source": [
    "Set up new constraints"
   ]
  },
  {
   "cell_type": "code",
   "execution_count": 6,
   "metadata": {},
   "outputs": [
    {
     "name": "stdout",
     "output_type": "stream",
     "text": [
      "Status: Optimal\n",
      "Foods_Celery__Raw = 42.399358\n",
      "Foods_Kielbasa_Prk = 0.1\n",
      "Foods_Lettuce_Iceberg_Raw = 82.802586\n",
      "Foods_Oranges = 3.0771841\n",
      "Foods_Peanut_Butter = 1.9429716\n",
      "Foods_Poached_Eggs = 0.1\n",
      "Foods_Popcorn_Air_Popped = 13.223294\n",
      "Foods_Scrambled_Eggs = 0.1\n",
      "Foods_ind_Celery__Raw = 1.0\n",
      "Foods_ind_Kielbasa_Prk = 1.0\n",
      "Foods_ind_Lettuce_Iceberg_Raw = 1.0\n",
      "Foods_ind_Oranges = 1.0\n",
      "Foods_ind_Peanut_Butter = 1.0\n",
      "Foods_ind_Poached_Eggs = 1.0\n",
      "Foods_ind_Popcorn_Air_Popped = 1.0\n",
      "Foods_ind_Scrambled_Eggs = 1.0\n",
      "Total Cost of Ingredients per meal =  4.512543427000001\n"
     ]
    }
   ],
   "source": [
    "\n",
    "for food in foods:\n",
    "    # Binary set to 1 if there's any food input used\n",
    "    prob += food_binary_indicators[food] >= food_inputs[food] * 0.0001, \"Indicator\"+food\n",
    "    # If consume, must consume at least .1\n",
    "    prob += food_inputs[food] >= .1*food_binary_indicators[food], \"MinRatio\"+food\n",
    "    \n",
    "# Only one of celery or broccoli\n",
    "prob += food_binary_indicators['Frozen Broccoli'] + food_binary_indicators['Celery  Raw'] <= 1.0\n",
    "\n",
    "# at least 3 meats\n",
    "meats = ['Roasted Chicken', 'Poached Eggs', 'Scrambled Eggs', 'Bologna Turkey',\n",
    "         'Frankfurter  Beef', 'Ham Sliced Extralean', 'Kielbasa Prk',\n",
    "         'Hamburger W/Toppings', 'Hotdog  Plain', 'Pork', 'Sardines in Oil',\n",
    "         'White Tuna in Water', 'Chicknoodl Soup', 'Neweng Clamchwd',\n",
    "         'New E Clamchwd W/Mlk']\n",
    "\n",
    "prob += lpSum(food_binary_indicators[meat] for meat in meats) >= 3.0, \"MinMeats\"\n",
    "prob.solve()\n",
    "# The status of the solution is printed to the screen\n",
    "print(\"Status:\", LpStatus[prob.status])\n",
    "\n",
    "# Each of the variables is printed with it's resolved optimum value\n",
    "for v in prob.variables():\n",
    "    if v.varValue > 0:\n",
    "        print(v.name, \"=\", v.varValue)\n",
    "    \n",
    "print(\"Total Cost of Ingredients per meal = \", value(prob.objective))"
   ]
  },
  {
   "cell_type": "markdown",
   "metadata": {},
   "source": [
    "The main driver in changes here is the requirement that 3 meat items are included. Looking more closely, they all are included only at the minimum amount = 0.1 portion of a standard serving. Adding these constraints raises costs by about 18 cents per day."
   ]
  }
 ],
 "metadata": {
  "kernelspec": {
   "display_name": "Python 3",
   "language": "python",
   "name": "python3"
  },
  "language_info": {
   "codemirror_mode": {
    "name": "ipython",
    "version": 3
   },
   "file_extension": ".py",
   "mimetype": "text/x-python",
   "name": "python",
   "nbconvert_exporter": "python",
   "pygments_lexer": "ipython3",
   "version": "3.6.1"
  }
 },
 "nbformat": 4,
 "nbformat_minor": 2
}
