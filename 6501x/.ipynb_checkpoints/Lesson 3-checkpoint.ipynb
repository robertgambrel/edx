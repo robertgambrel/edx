{
 "cells": [
  {
   "cell_type": "markdown",
   "metadata": {},
   "source": [
    "# Validation"
   ]
  },
  {
   "cell_type": "markdown",
   "metadata": {},
   "source": [
    "Want data split between testing and validation\n",
    "- 60% train, 20% validation, 20% test\n",
    "\n",
    "Cross validation\n",
    "- k-folds\n",
    "    - Train model on parts 1, 2, 3, evalute on part 4\n",
    "    - then train on 1, 2, 4, evaluate on part 3\n",
    "    - Ensures that every data point is used for each aspect of training, testing, validation\n",
    "    - Take average of model fit to estimate the model's quality\n",
    "    - Don't average *coefficients*! Estimate coefs on the whole dataset\n",
    "        - But this helps determine quality"
   ]
  },
  {
   "cell_type": "markdown",
   "metadata": {},
   "source": []
  }
 ],
 "metadata": {
  "kernelspec": {
   "display_name": "Python 3",
   "language": "python",
   "name": "python3"
  },
  "language_info": {
   "codemirror_mode": {
    "name": "ipython",
    "version": 3
   },
   "file_extension": ".py",
   "mimetype": "text/x-python",
   "name": "python",
   "nbconvert_exporter": "python",
   "pygments_lexer": "ipython3",
   "version": "3.6.0"
  }
 },
 "nbformat": 4,
 "nbformat_minor": 2
}
